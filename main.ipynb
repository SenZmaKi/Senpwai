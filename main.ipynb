{
 "cells": [
  {
   "cell_type": "code",
   "execution_count": 1,
   "metadata": {},
   "outputs": [
    {
     "name": "stdout",
     "output_type": "stream",
     "text": [
      "[{'id': 877, 'title': 'Boku no Hero Academia', 'type': 'TV', 'episodes': 13, 'status': 'Finished Airing', 'season': 'Spring', 'year': 2016, 'score': 7.9, 'poster': 'https://i.animepahe.com/posters/bf74acb64682024d7b49626fa69fe822aa403a2a7690c2c739a291833c8bae3c.jpg', 'session': '00ee7744-bb3b-f0f4-fcfc-9677114c4240'}, {'id': 1719, 'title': 'Boku no Hero Academia 2nd Season', 'type': 'TV', 'episodes': 25, 'status': 'Finished Airing', 'season': 'Spring', 'year': 2017, 'score': 8.12, 'poster': 'https://i.animepahe.com/posters/4a8396f9f5ddcae0b2f42b672139d697c243857a3bf55ac3f21ac920fda01d09.jpg', 'session': '958f0580-3f58-3009-deaf-16aa79210e5a'}, {'id': 2477, 'title': 'Boku no Hero Academia 3rd Season', 'type': 'TV', 'episodes': 25, 'status': 'Finished Airing', 'season': 'Spring', 'year': 2018, 'score': 8.05, 'poster': 'https://i.animepahe.com/posters/606327773e492b2528e1d12ad07951d607a7d93ee384bc5ab2dc8d591308dd17.jpg', 'session': '24fd1d80-68ee-3f4b-a37f-9a4dd69e1bb8'}, {'id': 3429, 'title': 'Boku no Hero Academia 4th Season', 'type': 'TV', 'episodes': 25, 'status': 'Finished Airing', 'season': 'Fall', 'year': 2019, 'score': 7.92, 'poster': 'https://i.animepahe.com/posters/2803be96f7e0c65dd8c3a10c0c82b00866d59cb7abef3238ebd49429aed18499.jpg', 'session': '3ffd680d-09ed-ce4e-d1c0-1976b25e9257'}, {'id': 4294, 'title': 'Boku no Hero Academia 5th Season', 'type': 'TV', 'episodes': 25, 'status': 'Finished Airing', 'season': 'Spring', 'year': 2021, 'score': 7.4, 'poster': 'https://i.animepahe.com/posters/eba16de599f14baa115448b902d3da0980fd9dbbd791a075ccceaacc6ab27bfb.jpg', 'session': '01b54151-4323-c907-4f5f-c953e8af02ed'}, {'id': 4922, 'title': 'Boku no Hero Academia 6th Season', 'type': 'TV', 'episodes': 25, 'status': 'Currently Airing', 'season': 'Fall', 'year': 2022, 'score': 8.33, 'poster': 'https://i.animepahe.com/posters/2a4a09c0bde6b8b05827fde1687c4a783309f597f2206f75d881c900d06f5d8d.jpg', 'session': 'b2fffc83-b474-b559-c85f-58b844968cc3'}, {'id': 3027, 'title': 'Boku no Hero Academia the Movie 1: Futari no Hero', 'type': 'Movie', 'episodes': 1, 'status': 'Finished Airing', 'season': 'Summer', 'year': 2018, 'score': 7.56, 'poster': 'https://i.animepahe.com/posters/3d0a1148589a3e135ece8b56a22f671628456c4b30a91c0bded880b834135db2.jpg', 'session': '067db279-4b91-caf1-0a9f-56a6e4b4e051'}, {'id': 4044, 'title': 'Boku no Hero Academia the Movie 2: Heroes:Rising', 'type': 'Movie', 'episodes': 1, 'status': 'Finished Airing', 'season': 'Winter', 'year': 2020, 'score': 7.99, 'poster': 'https://i.animepahe.com/posters/0774f57b0d6564d904ca44cf9164bd5d0eefab9c872b2d646039b6e7162eb211.jpg', 'session': '8bac7bd9-76ce-15cc-ffcb-c717f0d28ef5'}]\n"
     ]
    }
   ],
   "source": [
    "import requests\n",
    "import json\n",
    "url = \"https://animepahe.ru/\"\n",
    "search_url_extension = \"api?m=search&q=\"\n",
    "\n",
    "keyword = \"Boku no hero\"\n",
    "\n",
    "full_search_url = url+search_url_extension+keyword\n",
    "\n",
    "\n",
    "response = requests.get(full_search_url)\n",
    "results = json.loads(response.content.decode(\"UTF-8\"))[\"data\"]"
   ]
  }
 ],
 "metadata": {
  "kernelspec": {
   "display_name": "Python 3",
   "language": "python",
   "name": "python3"
  },
  "language_info": {
   "codemirror_mode": {
    "name": "ipython",
    "version": 3
   },
   "file_extension": ".py",
   "mimetype": "text/x-python",
   "name": "python",
   "nbconvert_exporter": "python",
   "pygments_lexer": "ipython3",
   "version": "3.11.1"
  },
  "orig_nbformat": 4
 },
 "nbformat": 4,
 "nbformat_minor": 2
}
