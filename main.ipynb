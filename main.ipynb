{
 "cells": [
  {
   "cell_type": "code",
   "execution_count": 71,
   "metadata": {},
   "outputs": [],
   "source": [
    "%reset -f\n",
    "import requests\n",
    "import json\n",
    "import re\n",
    "from bs4 import BeautifulSoup\n",
    "\n",
    "home_url = \"https://animepahe.ru/\"\n",
    "anime_url = home_url+\"anime/\"\n",
    "api_url_extension = \"api?m=\"\n",
    "search_url_extension = api_url_extension+\"search&q=\"\n",
    "quality = \"720p\"\n",
    "sub_or_dub = \"sub\"\n",
    "\n",
    "#keyword = input(\"Enter the name of the anime you want to download> \")\n",
    "keyword = \"Boku no hero\"\n",
    "\n",
    "#Searches for the anime in the animepahe database\n",
    "def Searcher(keyword):\n",
    "    full_search_url = home_url+search_url_extension+keyword\n",
    "    response = requests.get(full_search_url)\n",
    "    results = json.loads(response.content.decode(\"UTF-8\"))[\"data\"]\n",
    "    return results\n",
    "\n",
    "results = Searcher(keyword)"
   ]
  },
  {
   "cell_type": "code",
   "execution_count": 72,
   "metadata": {},
   "outputs": [
    {
     "name": "stdout",
     "output_type": "stream",
     "text": [
      "Please enter the number belonging to the anime you want from the list below\n",
      "1 Boku no Hero Academia\n",
      "2 Boku no Hero Academia 2nd Season\n",
      "3 Boku no Hero Academia 3rd Season\n",
      "4 Boku no Hero Academia 4th Season\n",
      "5 Boku no Hero Academia 5th Season\n",
      "6 Boku no Hero Academia 6th Season\n",
      "7 Boku no Hero Academia the Movie 1: Futari no Hero\n",
      "8 Boku no Hero Academia the Movie 2: Heroes:Rising\n",
      "\n",
      "Invalid number Senpwai\n",
      "Please enter the number belonging to the anime you want from the list below\n",
      "1 Boku no Hero Academia\n",
      "2 Boku no Hero Academia 2nd Season\n",
      "3 Boku no Hero Academia 3rd Season\n",
      "4 Boku no Hero Academia 4th Season\n",
      "5 Boku no Hero Academia 5th Season\n",
      "6 Boku no Hero Academia 6th Season\n",
      "7 Boku no Hero Academia the Movie 1: Futari no Hero\n",
      "8 Boku no Hero Academia the Movie 2: Heroes:Rising\n",
      "\n",
      "Invalid number Senpwai\n",
      "Please enter the number belonging to the anime you want from the list below\n",
      "1 Boku no Hero Academia\n",
      "2 Boku no Hero Academia 2nd Season\n",
      "3 Boku no Hero Academia 3rd Season\n",
      "4 Boku no Hero Academia 4th Season\n",
      "5 Boku no Hero Academia 5th Season\n",
      "6 Boku no Hero Academia 6th Season\n",
      "7 Boku no Hero Academia the Movie 1: Futari no Hero\n",
      "8 Boku no Hero Academia the Movie 2: Heroes:Rising\n"
     ]
    }
   ],
   "source": [
    "#Prompts the user to select the index of the anime they want from a list of the search results and returns the id of the chosen anime\n",
    "def AnimeSelection(results):\n",
    "    while \"anime_id\" not in locals():    \n",
    "        print(\"Please enter the number belonging to the anime you want from the list below\")\n",
    "        for index, result in enumerate(results):\n",
    "            print(index+1, result[\"title\"])\n",
    "\n",
    "        index_of_chosen_anime = int(input(\"Number> \"))-1\n",
    "\n",
    "        if not index_of_chosen_anime <= 0 and not len(results) < index_of_chosen_anime:\n",
    "            for index, result in enumerate(results):\n",
    "                if index == index_of_chosen_anime:\n",
    "                    anime_id = result[\"session\"]\n",
    "                    return anime_id\n",
    "        else:\n",
    "            print(\"\\nInvalid number Senpwai\")\n",
    "\n",
    "anime_id = AnimeSelection(results)\n",
    "\n"
   ]
  },
  {
   "cell_type": "code",
   "execution_count": 73,
   "metadata": {},
   "outputs": [],
   "source": [
    "\n",
    "#Issues a GET command to the server together with the id of the anime and returns a list of the links(not donwload links) to all the episodes of that anime\n",
    "def EpisodeLinks(anime_id):\n",
    "    response = requests.get(home_url+api_url_extension+\"release&id=\"+anime_id+\"&sort=episode_asc\")\n",
    "    episode_data = json.loads(response.content.decode(\"UTF-8\"))[\"data\"]\n",
    "    episode_sessions = [episode[\"session\"] for episode in episode_data]\n",
    "    episode_links = [home_url+\"play/\"+anime_id+\"/\"+str(episode_session) for episode_session in episode_sessions]\n",
    "    return episode_links\n",
    "\n",
    "episode_links = EpisodeLinks(anime_id)"
   ]
  },
  {
   "cell_type": "code",
   "execution_count": 74,
   "metadata": {},
   "outputs": [],
   "source": [
    "def DownloadData(episode_links):\n",
    "    download_data = []\n",
    "    for episode_link in episode_links:\n",
    "        episode_page = requests.get(episode_link).content\n",
    "        soup = BeautifulSoup(episode_page, \"html.parser\")\n",
    "        download_data.append(soup.find_all(\"a\", class_=\"dropdown-item\", target=\"_blank\"))\n",
    "    #Scrapes the download data of each episode and stores the links for each quality and dub or sub in a list which is contained in another list containing all episodes\n",
    "    download_links = [[download_link[\"href\"] for download_link in episode_data] for episode_data in download_data]\n",
    "    #Scrapes the download data of each episode and stores the info for each quality and dub or sub in a list which is contained in another list containing all episodes\n",
    "    download_info = [[episode_info.text.strip() for episode_info in episode_data] for episode_data in download_data] \n",
    "    return (download_links, download_info)   \n",
    "download_links, download_info = DownloadData(episode_links)"
   ]
  },
  {
   "cell_type": "code",
   "execution_count": 89,
   "metadata": {},
   "outputs": [
    {
     "data": {
      "text/plain": [
       "[[55, 121, 190, 52, 116, 182],\n",
       " [69, 155, 242, 67, 150, 235],\n",
       " [78, 183, 276, 76, 179, 269],\n",
       " [72, 164, 244, 70, 159, 235],\n",
       " [76, 172, 272, 73, 168, 265],\n",
       " [54, 117, 182, 52, 113, 175],\n",
       " [56, 141, 244, 54, 138, 239],\n",
       " [64, 145, 225, 62, 141, 218],\n",
       " [56, 122, 192, 54, 119, 187],\n",
       " [67, 153, 255, 65, 150, 250],\n",
       " [56, 125, 196, 55, 122, 191],\n",
       " [58, 127, 199, 56, 124, 193],\n",
       " [46, 98, 150, 44, 94, 144],\n",
       " [54, 121, 188, 52, 117, 181],\n",
       " [52, 115, 179, 50, 112, 174],\n",
       " [54, 124, 197, 52, 121, 192],\n",
       " [58, 134, 218, 57, 132, 214],\n",
       " [46, 100, 157, 44, 96, 150],\n",
       " [49, 106, 163, 48, 103, 157],\n",
       " [50, 110, 169, 48, 105, 162],\n",
       " [53, 113, 172, 51, 109, 166],\n",
       " [68, 159, 249, 66, 157, 242],\n",
       " [67, 155, 243, 65, 152, 237],\n",
       " [68, 161, 241, 66, 158, 234],\n",
       " [43, 92, 142, 41, 88, 135]]"
      ]
     },
     "execution_count": 89,
     "metadata": {},
     "output_type": "execute_result"
    }
   ],
   "source": [
    "#Returns the sizes of the downloads\n",
    "def DownloadSizes(download_info):\n",
    "    #You dont have to understand what happens here cause even I don't lol, ChatGpt for the win\n",
    "    #The function uses a regular expression to find an expression that matches it's \"syntax\" starts with ( and ends with MB)\n",
    "    #This match is then striped of the MB part in order to convert it into an integer, but before that it is converted into a string cause re.findall returns a string\n",
    "    #The string is then converted into an integer and voila we have the sizes of our episodes\n",
    "    download_sizes = [[int(\"\".join(re.findall(r'\\((.*?)MB\\)'.strip(\"MB\"), episode_info))) for episode_info in episode_data] for episode_data in download_info]\n",
    "    return download_sizes\n",
    "\n",
    "download_sizes = DownloadSizes(download_info)\n",
    "download_sizes\n",
    "    \n"
   ]
  },
  {
   "cell_type": "code",
   "execution_count": 76,
   "metadata": {},
   "outputs": [
    {
     "data": {
      "text/plain": [
       "'https://animepahe.ru/play/b781c27a-dc49-1373-64a9-f40de60ca0ee/ddb34969e076bd8072ed5961e9179a463b677e59f0e5056d41e2256c57266ed5'"
      ]
     },
     "execution_count": 76,
     "metadata": {},
     "output_type": "execute_result"
    }
   ],
   "source": [
    "response = requests.get(home_url+api_url_extension+\"release&id=\"+anime_id+\"&sort=episode_asc\")\n",
    "episodes = json.loads(response.content.decode(\"UTF-8\"))[\"data\"]\n",
    "test_episode = home_url+\"play/\"+anime_id+\"/\"+str(episodes[0][\"session\"])\n",
    "test_episode"
   ]
  },
  {
   "cell_type": "code",
   "execution_count": 77,
   "metadata": {},
   "outputs": [
    {
     "ename": "TypeError",
     "evalue": "list indices must be integers or slices, not str",
     "output_type": "error",
     "traceback": [
      "\u001b[1;31m---------------------------------------------------------------------------\u001b[0m",
      "\u001b[1;31mTypeError\u001b[0m                                 Traceback (most recent call last)",
      "Cell \u001b[1;32mIn[77], line 42\u001b[0m\n\u001b[0;32m     35\u001b[0m     \u001b[39melse\u001b[39;00m:\n\u001b[0;32m     36\u001b[0m         sub_or_dub \u001b[39m=\u001b[39m \u001b[39minput\u001b[39m(\u001b[39m\"\u001b[39m\u001b[39mPlease enter a valid choice Senpwai> \u001b[39m\u001b[39m\"\u001b[39m)\n\u001b[1;32m---> 42\u001b[0m download_page \u001b[39m=\u001b[39m requests\u001b[39m.\u001b[39mget(link[quality_chooser(quality)])\n\u001b[0;32m     44\u001b[0m \u001b[39mprint\u001b[39m(link[quality_chooser(quality)])\n",
      "\u001b[1;31mTypeError\u001b[0m: list indices must be integers or slices, not str"
     ]
    }
   ],
   "source": [
    "response = requests.get(test_episode)\n",
    "page = response.content\n",
    "soup = BeautifulSoup(page, \"html.parser\")\n",
    "episode_links = soup.find_all(\"a\", class_=\"dropdown-item\", target=\"_blank\")\n",
    "\n",
    "quality = input(\"What quality do you want to download in Senpwai uWu? 360p, 720p or 1080p> \")\n",
    "\n",
    "def quality_chooser(quality=\"720\"):\n",
    "    if quality == \"360p\" or quality == \"360\":\n",
    "        return 0\n",
    "    elif quality == \"720p\" or quality ==\"720\":\n",
    "        return 1\n",
    "    elif quality == \"1080p\" or quality ==\"1080\":\n",
    "        return 2\n",
    "    else:\n",
    "        return \"error\"\n",
    "\n",
    "while(True):\n",
    "    if quality_chooser == \"error\":\n",
    "        sub_or_dub = input(\"Pwease enter a valid choice Senpai> \")\n",
    "    else:\n",
    "        break\n",
    "\n",
    "\n",
    "sub_or_dub = input(\"Sub or dub> \")\n",
    "\n",
    "while(True):\n",
    "    if sub_or_dub.lower() == \"sub\":\n",
    "        link = [link[\"href\"] for link in episode_links[:3]]\n",
    "        break\n",
    "    elif sub_or_dub.lower() == \"dub\":\n",
    "        link = [link[\"href\"] for link in episode_links[3:]]\n",
    "        print(link)\n",
    "        break\n",
    "    else:\n",
    "        sub_or_dub = input(\"Please enter a valid choice Senpwai> \")\n",
    "\n",
    "\n",
    "\n",
    "\n",
    "\n",
    "download_page = requests.get(link[quality_chooser(quality)])\n",
    "\n",
    "print(link[quality_chooser(quality)])"
   ]
  }
 ],
 "metadata": {
  "kernelspec": {
   "display_name": "Python 3",
   "language": "python",
   "name": "python3"
  },
  "language_info": {
   "codemirror_mode": {
    "name": "ipython",
    "version": 3
   },
   "file_extension": ".py",
   "mimetype": "text/x-python",
   "name": "python",
   "nbconvert_exporter": "python",
   "pygments_lexer": "ipython3",
   "version": "3.10.9"
  },
  "orig_nbformat": 4
 },
 "nbformat": 4,
 "nbformat_minor": 2
}
