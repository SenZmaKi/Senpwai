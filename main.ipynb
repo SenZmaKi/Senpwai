{
 "cells": [
  {
   "cell_type": "code",
   "execution_count": 35,
   "metadata": {},
   "outputs": [],
   "source": [
    "import requests\n",
    "import json\n",
    "from bs4 import BeautifulSoup\n",
    "home_url = \"https://animepahe.ru/\"\n",
    "anime_url = home_url+\"anime/\"\n",
    "api_url_extension = \"api?m=\"\n",
    "search_url_extension = api_url_extension+\"search&q=\"\n",
    "quality = \"720p\"\n",
    "sub_or_dub = \"sub\"\n",
    "\n",
    "#keyword = input(\"Enter the name of the anime you want to download> \")\n",
    "\n",
    "keyword = \"Boku no hero\"\n",
    "\n",
    "full_search_url = home_url+search_url_extension+keyword\n",
    "\n",
    "\n",
    "response = requests.get(full_search_url)\n",
    "results = json.loads(response.content.decode(\"UTF-8\"))[\"data\"]"
   ]
  },
  {
   "cell_type": "code",
   "execution_count": 36,
   "metadata": {},
   "outputs": [
    {
     "name": "stdout",
     "output_type": "stream",
     "text": [
      "Please enter the number belonging to the anime you want from the list below\n",
      "1 Boku no Hero Academia\n",
      "2 Boku no Hero Academia 2nd Season\n",
      "3 Boku no Hero Academia 3rd Season\n",
      "4 Boku no Hero Academia 4th Season\n",
      "5 Boku no Hero Academia 5th Season\n",
      "6 Boku no Hero Academia 6th Season\n",
      "7 Boku no Hero Academia the Movie 1: Futari no Hero\n",
      "8 Boku no Hero Academia the Movie 2: Heroes:Rising\n"
     ]
    },
    {
     "data": {
      "text/plain": [
       "'b2fffc83-b474-b559-c85f-58b844968cc3'"
      ]
     },
     "execution_count": 36,
     "metadata": {},
     "output_type": "execute_result"
    }
   ],
   "source": [
    "print(\"Please enter the number belonging to the anime you want from the list below\")\n",
    "for index, result in enumerate(results):\n",
    "    print(index+1, result[\"title\"])\n",
    "\n",
    "#index_of_chosen_anime = input(\"Number> \")-1\n",
    "index_of_chosen_anime = 5\n",
    "\n",
    "\n",
    "for index, result in enumerate(results):\n",
    "    if index == index_of_chosen_anime:\n",
    "        anime_id = result[\"session\"]\n",
    "        break\n",
    "\n",
    "anime_id\n"
   ]
  },
  {
   "cell_type": "code",
   "execution_count": 37,
   "metadata": {},
   "outputs": [],
   "source": [
    "response = requests.get(home_url+api_url_extension+\"release&id=\"+anime_id+\"&sort=episode_asc\")\n",
    "episodes = json.loads(response.content.decode(\"UTF-8\"))[\"data\"]\n",
    "test_episode = home_url+\"play/\"+anime_id+\"/\"+str(episodes[0][\"session\"])"
   ]
  },
  {
   "cell_type": "code",
   "execution_count": 38,
   "metadata": {},
   "outputs": [
    {
     "name": "stdout",
     "output_type": "stream",
     "text": [
      "['https://pahe.win/mqhEi', 'https://pahe.win/OdORK', 'https://pahe.win/kGLYV']\n",
      "https://pahe.win/OdORK\n"
     ]
    }
   ],
   "source": [
    "response = requests.get(test_episode)\n",
    "page = response.content\n",
    "soup = BeautifulSoup(page, \"html.parser\")\n",
    "episode_links = soup.find_all(\"a\", class_=\"dropdown-item\", target=\"_blank\")\n",
    "\n",
    "quality = input(\"What quality do you want to download in Senpwai uWu? 360p, 720p or 1080p> \")\n",
    "\n",
    "def quality_chooser(quality=\"720\"):\n",
    "    if quality == \"360p\" or quality == \"360\":\n",
    "        return 0\n",
    "    elif quality == \"720p\" or quality ==\"720\":\n",
    "        return 1\n",
    "    elif quality == \"1080p\" or quality ==\"1080\":\n",
    "        return 2\n",
    "    else:\n",
    "        return \"error\"\n",
    "\n",
    "while(True):\n",
    "    if quality_chooser == \"error\":\n",
    "        sub_or_dub = input(\"Pwease enter a valid choice Senpai> \")\n",
    "    else:\n",
    "        break\n",
    "\n",
    "\n",
    "sub_or_dub = input(\"Sub or dub> \")\n",
    "\n",
    "while(True):\n",
    "    if sub_or_dub.lower() == \"sub\":\n",
    "        link = [link[\"href\"] for link in episode_links[:3]]\n",
    "        break\n",
    "    elif sub_or_dub.lower() == \"dub\":\n",
    "        link = [link[\"href\"] for link in episode_links[3:]]\n",
    "        break\n",
    "    else:\n",
    "        sub_or_dub = input(\"Please enter a valid choice Senpwai> \")\n",
    "\n",
    "\n",
    "\n",
    "\n",
    "\n",
    "download_page = requests.get(link[quality_chooser(quality)])\n",
    "\n",
    "print(link[quality_chooser(quality)])"
   ]
  }
 ],
 "metadata": {
  "kernelspec": {
   "display_name": "Python 3",
   "language": "python",
   "name": "python3"
  },
  "language_info": {
   "codemirror_mode": {
    "name": "ipython",
    "version": 3
   },
   "file_extension": ".py",
   "mimetype": "text/x-python",
   "name": "python",
   "nbconvert_exporter": "python",
   "pygments_lexer": "ipython3",
   "version": "3.9.13"
  },
  "orig_nbformat": 4
 },
 "nbformat": 4,
 "nbformat_minor": 2
}
