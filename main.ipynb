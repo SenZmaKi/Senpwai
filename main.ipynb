{
 "cells": [
  {
   "cell_type": "code",
   "execution_count": 12,
   "metadata": {},
   "outputs": [],
   "source": [
    "import requests\n",
    "import json\n",
    "home_url = \"https://animepahe.ru/\"\n",
    "anime_url = home_url+\"anime/\"\n",
    "search_url_extension = \"api?m=search&q=\"\n",
    "\n",
    "#keyword = input(\"Enter the name of the anime you want to download> \")\n",
    "\n",
    "keyword = \"Boku no hero\"\n",
    "\n",
    "full_search_url = home_url+search_url_extension+keyword\n",
    "\n",
    "\n",
    "response = requests.get(full_search_url)\n",
    "results = json.loads(response.content.decode(\"UTF-8\"))[\"data\"]"
   ]
  },
  {
   "cell_type": "code",
   "execution_count": 14,
   "metadata": {},
   "outputs": [
    {
     "name": "stdout",
     "output_type": "stream",
     "text": [
      "Please enter the number belonging to the anime you want from the list below\n",
      "1 Boku no Hero Academia\n",
      "2 Boku no Hero Academia 2nd Season\n",
      "3 Boku no Hero Academia 3rd Season\n",
      "4 Boku no Hero Academia 4th Season\n",
      "5 Boku no Hero Academia 5th Season\n",
      "6 Boku no Hero Academia 6th Season\n",
      "7 Boku no Hero Academia the Movie 1: Futari no Hero\n",
      "8 Boku no Hero Academia the Movie 2: Heroes:Rising\n"
     ]
    },
    {
     "data": {
      "text/plain": [
       "'https://animepahe.ru/anime/b2fffc83-b474-b559-c85f-58b844968cc3'"
      ]
     },
     "execution_count": 14,
     "metadata": {},
     "output_type": "execute_result"
    }
   ],
   "source": [
    "print(\"Please enter the number belonging to the anime you want from the list below\")\n",
    "for index, result in enumerate(results):\n",
    "    print(index+1, result[\"title\"])\n",
    "\n",
    "#index_of_chosen_anime = input(\"Number> \")-1\n",
    "index_of_chosen_anime = 5\n",
    "\n",
    "for index, result in enumerate(results):\n",
    "    if index == index_of_chosen_anime:\n",
    "        chosen_anime_url = anime_url+result[\"session\"]\n",
    "        break\n",
    "\n",
    "chosen_anime_url\n"
   ]
  },
  {
   "cell_type": "code",
   "execution_count": null,
   "metadata": {},
   "outputs": [],
   "source": []
  }
 ],
 "metadata": {
  "kernelspec": {
   "display_name": "Python 3",
   "language": "python",
   "name": "python3"
  },
  "language_info": {
   "codemirror_mode": {
    "name": "ipython",
    "version": 3
   },
   "file_extension": ".py",
   "mimetype": "text/x-python",
   "name": "python",
   "nbconvert_exporter": "python",
   "pygments_lexer": "ipython3",
   "version": "3.11.1"
  },
  "orig_nbformat": 4
 },
 "nbformat": 4,
 "nbformat_minor": 2
}
