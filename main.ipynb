{
 "cells": [
  {
   "cell_type": "code",
   "execution_count": 19,
   "metadata": {},
   "outputs": [],
   "source": [
    "%reset -f\n",
    "import requests\n",
    "import json\n",
    "import re\n",
    "from bs4 import BeautifulSoup\n",
    "\n",
    "from webdriver_manager.microsoft import EdgeChromiumDriverManager\n",
    "from webdriver_manager.chrome import ChromeDriverManager\n",
    "from webdriver_manager.firefox import GeckoDriverManager\n",
    "\n",
    "from selenium.webdriver.edge.service import Service as EdgeService\n",
    "from selenium.webdriver.chrome.service import Service as ChromeService\n",
    "from selenium.webdriver.firefox.service import Service as FirefoxService\n",
    "from selenium import webdriver\n",
    "from selenium.webdriver.common.by import By\n",
    "\n",
    "import webbrowser\n",
    "import time\n",
    "\n",
    "\n",
    "home_url = \"https://animepahe.ru/\"\n",
    "anime_url = home_url+\"anime/\"\n",
    "api_url_extension = \"api?m=\"\n",
    "search_url_extension = api_url_extension+\"search&q=\"\n",
    "quality = \"720p\"\n",
    "sub_or_dub = \"sub\"\n",
    "\n",
    "#keyword = input(\"Enter the name of the anime you want to download> \")\n",
    "keyword = \"Senyu\"\n",
    "\n",
    "#Searches for the anime in the animepahe database\n",
    "def Searcher(keyword):\n",
    "    full_search_url = home_url+search_url_extension+keyword\n",
    "    response = requests.get(full_search_url)\n",
    "    results = json.loads(response.content.decode(\"UTF-8\"))[\"data\"]\n",
    "    return results\n",
    "\n",
    "results = Searcher(keyword)"
   ]
  },
  {
   "cell_type": "code",
   "execution_count": 20,
   "metadata": {},
   "outputs": [
    {
     "name": "stdout",
     "output_type": "stream",
     "text": [
      "Please enter the number belonging to the anime you want from the list below\n",
      "1 Senyuu.\n",
      "2 Senyuu. 2\n",
      "3 Senyuu. Specials\n",
      "4 Senjuushi\n",
      "5 Senryuu Shoujo\n",
      "6 Senyoku no Sigrdrifa\n",
      "7 Senyoku no Sigrdrifa: Dai-909 Senjutsu Hime-tai Sentou Kiroku!\n",
      "8 Chiisai Sensuikan ni Koi wo Shita Dekasugiru Kujira no Hanashi\n"
     ]
    }
   ],
   "source": [
    "#Prompts the user to select the index of the anime they want from a list of the search results and returns the id of the chosen anime\n",
    "def AnimeSelection(results):\n",
    "    while \"anime_id\" not in locals():    \n",
    "        print(\"Please enter the number belonging to the anime you want from the list below\")\n",
    "        for index, result in enumerate(results):\n",
    "            print(index+1, result[\"title\"])\n",
    "\n",
    "        index_of_chosen_anime = int(input(\"Number> \"))-1\n",
    "\n",
    "        if not index_of_chosen_anime < 0 and not len(results) <= index_of_chosen_anime:\n",
    "            for index, result in enumerate(results):\n",
    "                if index == index_of_chosen_anime:\n",
    "                    anime_id = result[\"session\"]\n",
    "                    return anime_id\n",
    "        else:\n",
    "            print(\"\\nInvalid number Senpwai\")\n",
    "\n",
    "anime_id = AnimeSelection(results)\n",
    "\n"
   ]
  },
  {
   "cell_type": "code",
   "execution_count": 21,
   "metadata": {},
   "outputs": [],
   "source": [
    "\n",
    "#Issues a GET command to the server together with the id of the anime and returns a list of the links(not donwload links) to all the episodes of that anime\n",
    "def EpisodeLinks(anime_id):\n",
    "    response = requests.get(home_url+api_url_extension+\"release&id=\"+anime_id+\"&sort=episode_asc\")\n",
    "    episode_data = json.loads(response.content.decode(\"UTF-8\"))[\"data\"]\n",
    "    episode_sessions = [episode[\"session\"] for episode in episode_data]\n",
    "    episode_links = [home_url+\"play/\"+anime_id+\"/\"+str(episode_session) for episode_session in episode_sessions]\n",
    "    return episode_links\n",
    "\n",
    "episode_links = EpisodeLinks(anime_id)"
   ]
  },
  {
   "cell_type": "code",
   "execution_count": 22,
   "metadata": {},
   "outputs": [],
   "source": [
    "def DownloadData(episode_links):\n",
    "    download_data = []\n",
    "    for episode_link in episode_links:\n",
    "        episode_page = requests.get(episode_link).content\n",
    "        soup = BeautifulSoup(episode_page, \"html.parser\")\n",
    "        download_data.append(soup.find_all(\"a\", class_=\"dropdown-item\", target=\"_blank\"))\n",
    "    #Scrapes the download data of each episode and stores the links for each quality and dub or sub in a list which is contained in another list containing all episodes\n",
    "    download_links = [[download_link[\"href\"] for download_link in episode_data] for episode_data in download_data]\n",
    "    #Scrapes the download data of each episode and stores the info for each quality and dub or sub in a list which is contained in another list containing all episodes\n",
    "    download_info = [[episode_info.text.strip() for episode_info in episode_data] for episode_data in download_data] \n",
    "    return (download_links, download_info)   \n",
    "download_links, download_info = DownloadData(episode_links)\n"
   ]
  },
  {
   "cell_type": "code",
   "execution_count": 23,
   "metadata": {},
   "outputs": [],
   "source": [
    "#Returns the sizes of the downloads\n",
    "def DownloadSizes(download_info):\n",
    "    #You dont have to understand what happens here cause even I don't lol, ChatGpt for the win\n",
    "    #The function uses a regular expression to find an expression that matches it's \"syntax\" starts with ( and ends with MB)\n",
    "    #This match is then striped of the MB part in order to convert it into an integer, but before that it is converted into a string cause re.findall returns a string\n",
    "    #The string is then converted into an integer and voila we have the sizes of our episodes\n",
    "    download_sizes = [[int(\"\".join(re.findall(r'\\((.*?)MB\\)'.strip(\"MB\"), episode_info))) for episode_info in episode_data] for episode_data in download_info]\n",
    "    return download_sizes\n",
    "\n",
    "download_sizes = DownloadSizes(download_info)\n",
    "    \n"
   ]
  },
  {
   "cell_type": "code",
   "execution_count": 24,
   "metadata": {},
   "outputs": [],
   "source": [
    "#Prompts the user for the settings of their downloads, the quality and whether subbed or dubbed\n",
    "\n",
    "def DownloadSettings():\n",
    "\n",
    "    met_conditions = 0\n",
    "    def quality_chooser(quality):\n",
    "        if quality == \"360p\" or quality == \"360\":\n",
    "            return 0\n",
    "        elif quality == \"720p\" or quality ==\"720\":\n",
    "            return 1\n",
    "        elif quality == \"1080p\" or quality ==\"1080\":\n",
    "            return 2\n",
    "        else:\n",
    "            return \"error\"\n",
    "    \n",
    "    def sub_or_dubber(sub_or_dub):\n",
    "        if sub_or_dub == \"sub\" or sub_or_dub == \"s\":\n",
    "            return 1\n",
    "        elif sub_or_dub == \"dub\" or sub_or_dub == \"dub\":\n",
    "            return 0\n",
    "        else:\n",
    "            return \"error\"\n",
    "\n",
    "    \n",
    "    quality = 69\n",
    "    sub_or_dub = 69\n",
    "\n",
    "    while met_conditions < 2:\n",
    "        while quality_chooser(quality) == \"error\":\n",
    "            quality = input(\"What quality do you want to download in Senpwai uWu? 360p, 720p or 1080p> \")\n",
    "        quality = quality_chooser(quality)\n",
    "        met_conditions+=1\n",
    "\n",
    "        while sub_or_dubber(sub_or_dub) == \"error\":\n",
    "            sub_or_dub = input(\"Sub or dub> \").lower()\n",
    "        sub_or_dub = sub_or_dubber(sub_or_dub)\n",
    "        met_conditions+=1\n",
    "\n",
    "    return quality, sub_or_dub\n",
    "\n",
    "\n",
    "quality, sub_or_dub = DownloadSettings()\n",
    "\n",
    "    "
   ]
  },
  {
   "cell_type": "code",
   "execution_count": 25,
   "metadata": {},
   "outputs": [
    {
     "name": "stdout",
     "output_type": "stream",
     "text": [
      "sub\n"
     ]
    }
   ],
   "source": [
    "#Generates new download links and download sizes for the episodes based off the user's configured settings\n",
    "def ConfigureDownloadData(download_links, download_sizes, quality, sub_or_dub):\n",
    "    if sub_or_dub:\n",
    "        print(\"sub\")\n",
    "        configured_download_links = [episode_links[:3] for episode_links in download_links]\n",
    "        configured_download_sizes = [episode_links[:3] for episode_links in download_sizes]\n",
    "    elif not sub_or_dub:\n",
    "        if len(download_links[0]) == 3:\n",
    "            print(\"There seems to be no dub for this anime, switching to sub\")\n",
    "            configured_download_links = [episode_links[:3] for episode_links in download_links]\n",
    "            configured_download_sizes = [episode_links[:3] for episode_links in download_sizes]\n",
    "        elif len(download_links[0]) == 6:\n",
    "            print(\"dub\")\n",
    "            configured_download_links = [episode_links[3:] for episode_links in download_links]\n",
    "            configured_download_sizes = [episode_links[3:] for episode_links in download_sizes]\n",
    "\n",
    "    configured_download_links = [episode_links[quality] for episode_links in configured_download_links]\n",
    "    configured_download_sizes = [episode_links[quality] for episode_links in configured_download_sizes]\n",
    "    \n",
    "    return configured_download_links, configured_download_sizes\n",
    "\n",
    "configured_download_links, configured_download_sizes = ConfigureDownloadData(download_links, download_sizes, quality, sub_or_dub)\n",
    "total_download_size = sum(configured_download_sizes)"
   ]
  },
  {
   "cell_type": "code",
   "execution_count": 49,
   "metadata": {},
   "outputs": [
    {
     "name": "stderr",
     "output_type": "stream",
     "text": [
      "[WDM] - Downloading: 16.9kB [00:00, 8.65MB/s]                   \n"
     ]
    }
   ],
   "source": [
    "def DownloadEpisodes(configured_download_links):\n",
    "\n",
    "    def SupportedBrowserCheck():\n",
    "        service_edge = EdgeService(executable_path=EdgeChromiumDriverManager().install())\n",
    "        service_chrome = ChromeService(executable_path=ChromeDriverManager().install())\n",
    "        service_firefox = FirefoxService(executable_path=GeckoDriverManager().install())\n",
    "        try:\n",
    "            driver_chrome = webdriver.Chrome(service=service_chrome)\n",
    "            return driver_chrome\n",
    "        except:\n",
    "            try:\n",
    "                driver_edge = webdriver.Edge(service=service_edge)\n",
    "                return driver_edge\n",
    "            except:\n",
    "                try:\n",
    "                    driver_firefox = webdriver.Firefox(service=service_firefox)\n",
    "                    return driver_firefox\n",
    "                except:\n",
    "                    print(\"Sowwy the onwy supported browses are Chrome, Edge and Firefox\")\n",
    "                    webbrowser.open_new(\"https://google.com/chrome\")\n",
    "\n",
    "\n",
    "    browser_page = SupportedBrowserCheck()\n",
    "    for configured_download_link in configured_download_links:\n",
    "        browser_page.get(configured_download_link)\n",
    "        time.sleep(6)\n",
    "        soup = BeautifulSoup(browser_page.page_source, \"html.parser\")\n",
    "        server_download_link = soup.find_all(\"a\", class_=\"btn btn-primary btn-block redirect\")[0][\"href\"]\n",
    "\n",
    "        browser_page.get(server_download_link)\n",
    "        \n",
    "        server_download_link = server_download_link.replace(\"/f/\", \"/d/\", 1)\n",
    "        download = browser_page.find_element(By.CSS_SELECTOR, 'form[action=\"%s\"]' %server_download_link).submit()\n",
    "\n",
    "\n",
    "DownloadEpisodes(configured_download_links)\n"
   ]
  },
  {
   "cell_type": "code",
   "execution_count": 45,
   "metadata": {},
   "outputs": [
    {
     "data": {
      "text/plain": [
       "'https://kwik.cx/f/8fIarY2yLRP2'"
      ]
     },
     "execution_count": 45,
     "metadata": {},
     "output_type": "execute_result"
    }
   ],
   "source": [
    "server_download_link"
   ]
  }
 ],
 "metadata": {
  "kernelspec": {
   "display_name": "Python 3",
   "language": "python",
   "name": "python3"
  },
  "language_info": {
   "codemirror_mode": {
    "name": "ipython",
    "version": 3
   },
   "file_extension": ".py",
   "mimetype": "text/x-python",
   "name": "python",
   "nbconvert_exporter": "python",
   "pygments_lexer": "ipython3",
   "version": "3.10.9"
  },
  "orig_nbformat": 4
 },
 "nbformat": 4,
 "nbformat_minor": 2
}
